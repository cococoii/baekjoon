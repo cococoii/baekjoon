{
  "nbformat": 4,
  "nbformat_minor": 0,
  "metadata": {
    "colab": {
      "provenance": [],
      "collapsed_sections": [],
      "include_colab_link": true
    },
    "kernelspec": {
      "name": "python3",
      "display_name": "Python 3"
    },
    "gpuClass": "standard",
    "accelerator": "GPU"
  },
  "cells": [
    {
      "cell_type": "markdown",
      "metadata": {
        "id": "view-in-github",
        "colab_type": "text"
      },
      "source": [
        "<a href=\"https://colab.research.google.com/github/cococoii/baekjoon/blob/main/11_VisualMachineLearning/1_01_My_First_CNN.ipynb\" target=\"_parent\"><img src=\"https://colab.research.google.com/assets/colab-badge.svg\" alt=\"Open In Colab\"/></a>"
      ]
    },
    {
      "cell_type": "markdown",
      "metadata": {
        "id": "x8TZ1FxLB4xJ"
      },
      "source": [
        "# My First CNN on MNIST\n",
        "\n",
        "## 일단 Quick 하게!!\n",
        "\n",
        "코드는 정말 수루룩 끝난다!\n",
        "\n",
        "그래서 다시 한 번! 다음 그림을 보고 구조를 확실히 추적할 수 있어야 한다.\n",
        "\n",
        "* [Ex1](https://cdn-images-1.medium.com/max/1600/1*O9ulXVmjBustHGLi1zRthA.png)\n",
        "* [Ex2](https://cdn-images-1.medium.com/max/1600/1*jqKHgwZ8alM3K_JRYO_l4w.png)\n",
        "\n"
      ]
    },
    {
      "cell_type": "markdown",
      "metadata": {
        "id": "CcKmYCVBFNSN"
      },
      "source": [
        "### 라이브러리 로딩"
      ]
    },
    {
      "cell_type": "code",
      "metadata": {
        "id": "wY-LJviYFP1w"
      },
      "source": [
        "'''\n",
        "matplolib inline 명령어를 통해서\n",
        "matplot으로 그리는 플롯들을 주피터 노트북 내에서 볼 수 있게 해준다.\n",
        "포맷을 retina로 바꾸면 그래프의 화질이 훨씬 좋아진다.\n",
        "'''\n",
        "%matplotlib inline\n",
        "%config InlineBackend.figure_format = 'retina'\n",
        "\n",
        "'''\n",
        "라이브러리들을 불러오자.\n",
        "'''\n",
        "import numpy as np\n",
        "import pandas as pd\n",
        "import matplotlib.pyplot as plt\n",
        "import tensorflow as tf\n",
        "from tensorflow import keras\n",
        "\n",
        "from tensorflow.keras.callbacks import EarlyStopping\n",
        "from tensorflow.keras.layers import Input,Dense,Flatten, BatchNormalization, Dropout\n",
        "from tensorflow.keras import layers, models\n",
        "from tensorflow.keras import backend\n",
        "\n",
        "import random as rd\n",
        "from sklearn.metrics import accuracy_score"
      ],
      "execution_count": null,
      "outputs": []
    },
    {
      "cell_type": "code",
      "metadata": {
        "id": "N3TWkoiOFRlV",
        "colab": {
          "base_uri": "https://localhost:8080/"
        },
        "outputId": "9ac46548-1e0c-40e4-cde1-710610f96e23"
      },
      "source": [
        "(train_x, train_y), (test_x, test_y) = tf.keras.datasets.mnist.load_data()"
      ],
      "execution_count": null,
      "outputs": [
        {
          "output_type": "stream",
          "name": "stdout",
          "text": [
            "Downloading data from https://storage.googleapis.com/tensorflow/tf-keras-datasets/mnist.npz\n",
            "11493376/11490434 [==============================] - 0s 0us/step\n",
            "11501568/11490434 [==============================] - 0s 0us/step\n"
          ]
        }
      ]
    },
    {
      "cell_type": "code",
      "metadata": {
        "id": "8KNvSXY8FNWW",
        "colab": {
          "base_uri": "https://localhost:8080/"
        },
        "outputId": "cc773842-c232-4750-90e6-1963f6a9d09d"
      },
      "source": [
        "print(train_x.shape, train_y.shape, test_x.shape, test_y.shape)"
      ],
      "execution_count": null,
      "outputs": [
        {
          "output_type": "stream",
          "name": "stdout",
          "text": [
            "(60000, 28, 28) (60000,) (10000, 28, 28) (10000,)\n"
          ]
        }
      ]
    },
    {
      "cell_type": "code",
      "metadata": {
        "id": "BAd66i9TTRkG",
        "colab": {
          "base_uri": "https://localhost:8080/",
          "height": 301
        },
        "outputId": "6a596147-707b-45f3-d9d1-fae9f3be62f7"
      },
      "source": [
        "'''\n",
        "Ctrl+Enter를 이용하여\n",
        "반복 실행 해보자!\n",
        "'''\n",
        "\n",
        "id = rd.randrange(0, 10000)\n",
        "\n",
        "print(f'id = {id}')\n",
        "print(f'다음 그림은 숫자 {test_y[id]} 입니다.')\n",
        "plt.imshow(test_x[id])\n",
        "plt.show()"
      ],
      "execution_count": null,
      "outputs": [
        {
          "output_type": "stream",
          "name": "stdout",
          "text": [
            "id = 6503\n",
            "다음 그림은 숫자 7 입니다.\n"
          ]
        },
        {
          "output_type": "display_data",
          "data": {
            "text/plain": [
              "<Figure size 432x288 with 1 Axes>"
            ],
            "image/png": "[encoded data removed]"
          },
          "metadata": {
            "image/png": {
              "width": 251,
              "height": 248
            },
            "needs_background": "light"
          }
        }
      ]
    },
    {
      "cell_type": "markdown",
      "metadata": {
        "id": "nxjV4ytsM0Rq"
      },
      "source": [
        "### Convolutional Layer를 사용하기 위한 reshape!\n",
        "\n",
        "- **채널이 추가되어야 한다**"
      ]
    },
    {
      "cell_type": "code",
      "metadata": {
        "id": "Yndo0Z3BaCVi",
        "colab": {
          "base_uri": "https://localhost:8080/"
        },
        "outputId": "080d0f2e-7047-4a81-e8d4-195feac7b771"
      },
      "source": [
        "train_x.shape, test_x.shape"
      ],
      "execution_count": null,
      "outputs": [
        {
          "output_type": "execute_result",
          "data": {
            "text/plain": [
              "((60000, 28, 28), (10000, 28, 28))"
            ]
          },
          "metadata": {},
          "execution_count": 5
        }
      ]
    },
    {
      "cell_type": "code",
      "metadata": {
        "id": "vEJrcLBMaQuj",
        "colab": {
          "base_uri": "https://localhost:8080/"
        },
        "outputId": "9942b188-bd08-42eb-f843-3f77512018f3"
      },
      "source": [
        "_, h, w = train_x.shape\n",
        "\n",
        "print(h, w)"
      ],
      "execution_count": null,
      "outputs": [
        {
          "output_type": "stream",
          "name": "stdout",
          "text": [
            "28 28\n"
          ]
        }
      ]
    },
    {
      "cell_type": "code",
      "metadata": {
        "id": "99f0aagKM5Zl",
        "colab": {
          "base_uri": "https://localhost:8080/"
        },
        "outputId": "cf990a56-0538-42b5-e623-967318ed042f"
      },
      "source": [
        "train_x = train_x.reshape(train_x.shape[0], h, w, 1)\n",
        "test_x = test_x.reshape(test_x.shape[0], h, w, 1)\n",
        "\n",
        "print(train_x.shape, train_y.shape, test_x.shape, test_y.shape)"
      ],
      "execution_count": null,
      "outputs": [
        {
          "output_type": "stream",
          "name": "stdout",
          "text": [
            "(60000, 28, 28, 1) (60000,) (10000, 28, 28, 1) (10000,)\n"
          ]
        }
      ]
    },
    {
      "cell_type": "markdown",
      "metadata": {
        "id": "viSln5pqGc0G"
      },
      "source": [
        "* 이미지가 0 ~ 1 사이 값을 갖도록 스케일 조정!"
      ]
    },
    {
      "cell_type": "code",
      "metadata": {
        "id": "wDay4MrZGkNl",
        "colab": {
          "base_uri": "https://localhost:8080/"
        },
        "outputId": "4ed92e82-0a98-45af-8958-c7a10ef4549c"
      },
      "source": [
        "print(f'max : {train_x.max()} , min : {train_x.min()}')"
      ],
      "execution_count": null,
      "outputs": [
        {
          "output_type": "stream",
          "name": "stdout",
          "text": [
            "max : 255 , min : 0\n"
          ]
        }
      ]
    },
    {
      "cell_type": "code",
      "metadata": {
        "id": "DPFeq7FvGkyI",
        "colab": {
          "base_uri": "https://localhost:8080/"
        },
        "outputId": "a4f5b681-4579-495d-d294-de2d9699114e"
      },
      "source": [
        "max_num = train_x.max()\n",
        "\n",
        "train_x = train_x/max_num\n",
        "test_x = test_x/max_num\n",
        "\n",
        "print(f'max : {train_x.max()} , min : {train_x.min()}')"
      ],
      "execution_count": null,
      "outputs": [
        {
          "output_type": "stream",
          "name": "stdout",
          "text": [
            "max : 1.0 , min : 0.0\n"
          ]
        }
      ]
    },
    {
      "cell_type": "markdown",
      "metadata": {
        "id": "SzNYHB8aGmIy"
      },
      "source": [
        "## Sequential API로 모델링\n",
        "\n",
        "CNN에 관한 것만 추가가 된다.\n",
        "[여기](https://keras.io/layers/convolutional/)를 적극적으로 참고하자\n",
        "\n",
        "  - (Con,Con,Maxppool,BatchNorm,Dropout)*2"
      ]
    },
    {
      "cell_type": "code",
      "source": [
        "from tensorflow.keras.backend import clear_session\n",
        "from tensorflow.keras.models import Sequential\n",
        "from tensorflow.keras.layers import Input,Dense,Flatten,BatchNormalization,Dropout,Conv2D,MaxPool2D"
      ],
      "metadata": {
        "id": "tD-VhQutdW5-"
      },
      "execution_count": null,
      "outputs": []
    },
    {
      "cell_type": "code",
      "metadata": {
        "id": "nAXfWlC0Oi-L"
      },
      "source": [
        "# backend.image_data_format()"
      ],
      "execution_count": null,
      "outputs": []
    },
    {
      "cell_type": "code",
      "metadata": {
        "id": "Zt3DEJ6fHDGo",
        "colab": {
          "base_uri": "https://localhost:8080/"
        },
        "outputId": "14c31ac1-07e7-44b9-ba12-6f9b6c4508fc"
      },
      "source": [
        "#1.세션 클리어\n",
        "keras.backend.clear_session()\n",
        "\n",
        "#2. 모델 발판 생성\n",
        "model = keras.models.Sequential()\n",
        "\n",
        "#3. 레이어 블록 조립\n",
        "model.add(Input(shape=(28, 28, 1)))\n",
        "model.add( Conv2D(filters=32,            #filter map의 수\n",
        "                         padding='same',        #0을 덧댄다\n",
        "                         strides=(1,1),         #훑는 방식 결정 \n",
        "                         kernel_size=(3, 3),    #filter size\n",
        "                         activation='relu'))    #activation 주의\n",
        "\n",
        "model.add(Conv2D(filters=32,            #filter map의 수\n",
        "                         padding='same',        #0을 덧댄다\n",
        "                         strides=(1,1),         #훑는 방식 결정 \n",
        "                         kernel_size=(3, 3),    #filter size\n",
        "                         activation='relu'))    #activation 주의\n",
        "\n",
        "model.add( MaxPool2D(pool_size=(2, 2)) ) #feature map 사이즈 절반으로 줄이기 <-(2,2)의값 중 가장 높은 값으로\n",
        "model.add(BatchNormalization())                 #모델 학습에 유용한 레이어\n",
        "model.add(Dropout(0.2))                         #학습 과정에서 노드 일부를 일부러 제외한다.\n",
        "\n",
        "model.add( Conv2D(filters=64,            #filter map의 수\n",
        "                         padding='same',        #0을 덧댄다\n",
        "                         strides=(1,1),         #훑는 방식 결정 \n",
        "                         kernel_size=(3, 3),    #filter size\n",
        "                         activation='relu'))    #activation 주의\n",
        "\n",
        "model.add(Conv2D(filters=64,            #filter map의 수\n",
        "                         padding='same',        #0을 덧댄다\n",
        "                         strides=(1,1),         #훑는 방식 결정 \n",
        "                         kernel_size=(3, 3),    #filter size\n",
        "                         activation='relu'))    #activation 주의\n",
        "\n",
        "model.add(MaxPool2D(pool_size=(2, 2)) ) #feature map 사이즈 절반으로 줄이기 <-(2,2)의값 중 가장 높은 값으로\n",
        "model.add(BatchNormalization())                 #모델 학습에 유용한 레이어\n",
        "model.add(Dropout(0.2))                         #학습 과정에서 노드 일부를 일부러 제외한다.\n",
        "\n",
        "model.add( Flatten() )\n",
        "\n",
        "model.add( Dense(128, activation='relu') )\n",
        "\n",
        "model.add( Dense(10, activation='softmax'))\n",
        "\n",
        "# 컴파일!\n",
        "model.compile(loss=keras.losses.sparse_categorical_crossentropy,\n",
        "              optimizer='adam',\n",
        "              metrics=['accuracy'])\n",
        "\n",
        "# 양념!\n",
        "model.summary()"
      ],
      "execution_count": null,
      "outputs": [
        {
          "output_type": "stream",
          "name": "stdout",
          "text": [
            "Model: \"sequential\"\n",
            "_________________________________________________________________\n",
            " Layer (type)                Output Shape              Param #   \n",
            "=================================================================\n",
            " conv2d (Conv2D)             (None, 28, 28, 32)        320       \n",
            "                                                                 \n",
            " conv2d_1 (Conv2D)           (None, 28, 28, 32)        9248      \n",
            "                                                                 \n",
            " max_pooling2d (MaxPooling2D  (None, 14, 14, 32)       0         \n",
            " )                                                               \n",
            "                                                                 \n",
            " batch_normalization (BatchN  (None, 14, 14, 32)       128       \n",
            " ormalization)                                                   \n",
            "                                                                 \n",
            " dropout (Dropout)           (None, 14, 14, 32)        0         \n",
            "                                                                 \n",
            " conv2d_2 (Conv2D)           (None, 14, 14, 64)        18496     \n",
            "                                                                 \n",
            " conv2d_3 (Conv2D)           (None, 14, 14, 64)        36928     \n",
            "                                                                 \n",
            " max_pooling2d_1 (MaxPooling  (None, 7, 7, 64)         0         \n",
            " 2D)                                                             \n",
            "                                                                 \n",
            " batch_normalization_1 (Batc  (None, 7, 7, 64)         256       \n",
            " hNormalization)                                                 \n",
            "                                                                 \n",
            " dropout_1 (Dropout)         (None, 7, 7, 64)          0         \n",
            "                                                                 \n",
            " flatten (Flatten)           (None, 3136)              0         \n",
            "                                                                 \n",
            " dense (Dense)               (None, 128)               401536    \n",
            "                                                                 \n",
            " dense_1 (Dense)             (None, 10)                1290      \n",
            "                                                                 \n",
            "=================================================================\n",
            "Total params: 468,202\n",
            "Trainable params: 468,010\n",
            "Non-trainable params: 192\n",
            "_________________________________________________________________\n"
          ]
        }
      ]
    },
    {
      "cell_type": "code",
      "metadata": {
        "id": "knZfBr3OPjap",
        "colab": {
          "base_uri": "https://localhost:8080/"
        },
        "outputId": "c886abdb-a47a-48f9-e475-06b71c30f3fe"
      },
      "source": [
        "# 데이터를 넣어서 학습시키자!\n",
        "history = model.fit(train_x, train_y, epochs=15, batch_size=1024,\n",
        "                    validation_split=0.2, verbose=1)"
      ],
      "execution_count": null,
      "outputs": [
        {
          "output_type": "stream",
          "name": "stdout",
          "text": [
            "Epoch 1/15\n",
            "47/47 [==============================] - 18s 95ms/step - loss: 0.4342 - accuracy: 0.8645 - val_loss: 2.0376 - val_accuracy: 0.1254\n",
            "Epoch 2/15\n",
            "47/47 [==============================] - 3s 63ms/step - loss: 0.0756 - accuracy: 0.9759 - val_loss: 2.2284 - val_accuracy: 0.1064\n",
            "Epoch 3/15\n",
            "47/47 [==============================] - 3s 60ms/step - loss: 0.0500 - accuracy: 0.9842 - val_loss: 2.4979 - val_accuracy: 0.1526\n",
            "Epoch 4/15\n",
            "47/47 [==============================] - 3s 60ms/step - loss: 0.0384 - accuracy: 0.9874 - val_loss: 2.6377 - val_accuracy: 0.1395\n",
            "Epoch 5/15\n",
            "47/47 [==============================] - 3s 60ms/step - loss: 0.0291 - accuracy: 0.9908 - val_loss: 2.2585 - val_accuracy: 0.1755\n",
            "Epoch 6/15\n",
            "47/47 [==============================] - 3s 60ms/step - loss: 0.0227 - accuracy: 0.9929 - val_loss: 1.5170 - val_accuracy: 0.3916\n",
            "Epoch 7/15\n",
            "47/47 [==============================] - 3s 61ms/step - loss: 0.0185 - accuracy: 0.9941 - val_loss: 0.9282 - val_accuracy: 0.6594\n",
            "Epoch 8/15\n",
            "47/47 [==============================] - 3s 65ms/step - loss: 0.0152 - accuracy: 0.9951 - val_loss: 0.3577 - val_accuracy: 0.8889\n",
            "Epoch 9/15\n",
            "47/47 [==============================] - 3s 68ms/step - loss: 0.0146 - accuracy: 0.9952 - val_loss: 0.1061 - val_accuracy: 0.9743\n",
            "Epoch 10/15\n",
            "47/47 [==============================] - 3s 69ms/step - loss: 0.0121 - accuracy: 0.9959 - val_loss: 0.0878 - val_accuracy: 0.9737\n",
            "Epoch 11/15\n",
            "47/47 [==============================] - 3s 71ms/step - loss: 0.0101 - accuracy: 0.9968 - val_loss: 0.0541 - val_accuracy: 0.9850\n",
            "Epoch 12/15\n",
            "47/47 [==============================] - 3s 72ms/step - loss: 0.0102 - accuracy: 0.9965 - val_loss: 0.0313 - val_accuracy: 0.9905\n",
            "Epoch 13/15\n",
            "47/47 [==============================] - 3s 70ms/step - loss: 0.0068 - accuracy: 0.9979 - val_loss: 0.0291 - val_accuracy: 0.9901\n",
            "Epoch 14/15\n",
            "47/47 [==============================] - 3s 69ms/step - loss: 0.0064 - accuracy: 0.9978 - val_loss: 0.0261 - val_accuracy: 0.9920\n",
            "Epoch 15/15\n",
            "47/47 [==============================] - 3s 65ms/step - loss: 0.0053 - accuracy: 0.9984 - val_loss: 0.0312 - val_accuracy: 0.9911\n"
          ]
        }
      ]
    },
    {
      "cell_type": "code",
      "metadata": {
        "id": "FJMYuSnQPoqt",
        "colab": {
          "base_uri": "https://localhost:8080/"
        },
        "outputId": "ee889708-cac3-44a7-ab88-ad769d7fe6e5"
      },
      "source": [
        "performance_test = model.evaluate(test_x, test_y, batch_size=100)\n",
        "\n",
        "print(f'Test Loss : {performance_test[0]:.6f},  Test Accuracy : {performance_test[1]*100:.3f}%')"
      ],
      "execution_count": null,
      "outputs": [
        {
          "output_type": "stream",
          "name": "stdout",
          "text": [
            "100/100 [==============================] - 1s 4ms/step - loss: 0.0242 - accuracy: 0.9931\n",
            "Test Loss : 0.024204,  Test Accuracy : 99.310%\n"
          ]
        }
      ]
    },
    {
      "cell_type": "code",
      "metadata": {
        "id": "H5Ir4b-DQ3VG",
        "colab": {
          "base_uri": "https://localhost:8080/",
          "height": 348
        },
        "outputId": "356f0650-f350-4451-e790-3fed72a93e84"
      },
      "source": [
        "if not isinstance(history, dict) :\n",
        "    history = history.history\n",
        "\n",
        "plt.figure(figsize=(10, 5))\n",
        "plt.plot(history['accuracy'])\n",
        "plt.plot(history['val_accuracy'])\n",
        "plt.title('Accuracy : Training vs Validation')\n",
        "plt.ylabel('Accuracy')\n",
        "plt.xlabel('Epoch')\n",
        "plt.legend(['Training', 'Validation'], loc=0)\n",
        "plt.show()"
      ],
      "execution_count": null,
      "outputs": [
        {
          "output_type": "display_data",
          "data": {
            "text/plain": [
              "<Figure size 720x360 with 1 Axes>"
            ],
            "image/png": "[encoded data removed]"
          },
          "metadata": {
            "image/png": {
              "width": 608,
              "height": 331
            },
            "needs_background": "light"
          }
        }
      ]
    },
    {
      "cell_type": "code",
      "metadata": {
        "id": "mfiGA-DvQ42n",
        "colab": {
          "base_uri": "https://localhost:8080/",
          "height": 348
        },
        "outputId": "6ba7e52c-3e44-4768-960d-4531d65e217a"
      },
      "source": [
        "if not isinstance(history, dict) :\n",
        "    history = history.history\n",
        "\n",
        "plt.figure(figsize=(10, 5))\n",
        "plt.plot(history['loss'])\n",
        "plt.plot(history['val_loss'])\n",
        "plt.title('Loss : Training vs Validation')\n",
        "plt.ylabel('Loss')\n",
        "plt.xlabel('Epoch')\n",
        "plt.legend(['Training', 'Validation'], loc=0)\n",
        "plt.show()"
      ],
      "execution_count": null,
      "outputs": [
        {
          "output_type": "display_data",
          "data": {
            "text/plain": [
              "<Figure size 720x360 with 1 Axes>"
            ],
            "image/png": "[encoded data removed]"
          },
          "metadata": {
            "image/png": {
              "width": 608,
              "height": 331
            },
            "needs_background": "light"
          }
        }
      ]
    },
    {
      "cell_type": "markdown",
      "source": [
        "* 예측값 생성"
      ],
      "metadata": {
        "id": "IwBEu_E8HFzv"
      }
    },
    {
      "cell_type": "code",
      "metadata": {
        "id": "ErRidyIDTAXd",
        "colab": {
          "base_uri": "https://localhost:8080/"
        },
        "outputId": "89f3ecb7-4891-4d01-ff03-8b7f832d088d"
      },
      "source": [
        "pred_train = model.predict(train_x)\n",
        "pred_test = model.predict(test_x)\n",
        "\n",
        "single_pred_train = pred_train.argmax(axis=1)\n",
        "single_pred_test = pred_test.argmax(axis=1)\n",
        "\n",
        "logi_train_accuracy = accuracy_score(train_y, single_pred_train)\n",
        "logi_test_accuracy = accuracy_score(test_y, single_pred_test)\n",
        "\n",
        "print('CNN')\n",
        "print('트레이닝 정확도 : {:.2f}%'.format(logi_train_accuracy*100))\n",
        "print('테스트 정확도 : {:.2f}%'.format(logi_test_accuracy*100))"
      ],
      "execution_count": null,
      "outputs": [
        {
          "output_type": "stream",
          "name": "stdout",
          "text": [
            "CNN\n",
            "트레이닝 정확도 : 99.78%\n",
            "테스트 정확도 : 99.31%\n"
          ]
        }
      ]
    },
    {
      "cell_type": "markdown",
      "source": [
        "## 숫자 이미지 시각화"
      ],
      "metadata": {
        "id": "5Kgp7c72rsRw"
      }
    },
    {
      "cell_type": "code",
      "metadata": {
        "id": "L3U38rGQTDx_",
        "colab": {
          "base_uri": "https://localhost:8080/",
          "height": 356
        },
        "outputId": "f7415175-af64-4297-e4c6-8f2380bfec0d"
      },
      "source": [
        "'''\n",
        "성능 확인을 위해\n",
        "Ctrl+Enter를 이용하여\n",
        "반복 실행 해보자!\n",
        "'''\n",
        "\n",
        "id = rd.randrange(0,10000)\n",
        "\n",
        "print(f'id = {id}')\n",
        "print(f'다음 그림은 숫자 {test_y[id]} 입니다.')\n",
        "print(f'모델의 예측 : {single_pred_test[id]}')\n",
        "print(f'모델의 카테고리별 확률 : {np.floor(pred_test[id]*100)}')\n",
        "\n",
        "if test_y[id] == single_pred_test[id] :\n",
        "    print('정답입니다')\n",
        "else : \n",
        "    print('틀렸어요')\n",
        "plt.imshow(test_x[id].reshape([28,-1]))\n",
        "plt.show()"
      ],
      "execution_count": null,
      "outputs": [
        {
          "output_type": "stream",
          "name": "stdout",
          "text": [
            "id = 2337\n",
            "다음 그림은 숫자 6 입니다.\n",
            "모델의 예측 : 6\n",
            "모델의 카테고리별 확률 : [  0.   0.   0.   0.   0.   0. 100.   0.   0.   0.]\n",
            "정답입니다\n"
          ]
        },
        {
          "output_type": "display_data",
          "data": {
            "text/plain": [
              "<Figure size 432x288 with 1 Axes>"
            ],
            "image/png": "[encoded data removed]"
          },
          "metadata": {
            "image/png": {
              "width": 251,
              "height": 248
            },
            "needs_background": "light"
          }
        }
      ]
    },
    {
      "cell_type": "code",
      "metadata": {
        "id": "3RDJuEcbTAeg",
        "colab": {
          "base_uri": "https://localhost:8080/",
          "height": 356
        },
        "outputId": "f54b7f5a-83da-4770-bccb-e116231527f1"
      },
      "source": [
        "'''\n",
        "틀린 것만 관찰해보자!\n",
        "\n",
        "Ctrl+Enter를 이용하여\n",
        "반복 실행 해보자!\n",
        "'''\n",
        "\n",
        "true_false = (test_y==single_pred_test)\n",
        "f_id = np.where(true_false==False)[0]\n",
        "f_n = len(f_id)\n",
        "\n",
        "id = f_id[rd.randrange(0,f_n)]\n",
        "\n",
        "print(f'id = {id}')\n",
        "print(f'다음 그림은 숫자 {test_y[id]} 입니다.')\n",
        "print(f'모델의 예측 : {single_pred_test[id]}')\n",
        "print(f'모델의 카테고리별 확률 : {np.floor(pred_test[id]*100)}')\n",
        "\n",
        "if test_y[id] == single_pred_test[id] :\n",
        "    print('정답입니다')\n",
        "else : \n",
        "    print('틀렸어요')\n",
        "plt.imshow(test_x[id].reshape([28,-1]))\n",
        "plt.show()"
      ],
      "execution_count": null,
      "outputs": [
        {
          "output_type": "stream",
          "name": "stdout",
          "text": [
            "id = 4176\n",
            "다음 그림은 숫자 2 입니다.\n",
            "모델의 예측 : 7\n",
            "모델의 카테고리별 확률 : [ 0.  0.  1.  0.  0.  0.  0. 98.  0.  0.]\n",
            "틀렸어요\n"
          ]
        },
        {
          "output_type": "display_data",
          "data": {
            "text/plain": [
              "<Figure size 432x288 with 1 Axes>"
            ],
            "image/png": "[encoded data removed]"
          },
          "metadata": {
            "image/png": {
              "width": 251,
              "height": 248
            },
            "needs_background": "light"
          }
        }
      ]
    },
    {
      "cell_type": "code",
      "metadata": {
        "id": "5hjk-EcuTAlE"
      },
      "source": [],
      "execution_count": null,
      "outputs": []
    }
  ]
}